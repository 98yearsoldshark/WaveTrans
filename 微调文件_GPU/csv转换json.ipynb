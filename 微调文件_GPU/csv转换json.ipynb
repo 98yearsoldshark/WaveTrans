{
 "cells": [
  {
   "cell_type": "code",
   "execution_count": 1,
   "id": "728fb6d0-5173-4193-9801-547414f2c94f",
   "metadata": {
    "ExecutionIndicator": {
     "show": true
    },
    "execution": {
     "iopub.execute_input": "2024-08-14T02:11:26.222862Z",
     "iopub.status.busy": "2024-08-14T02:11:26.222562Z",
     "iopub.status.idle": "2024-08-14T02:11:26.238207Z",
     "shell.execute_reply": "2024-08-14T02:11:26.237797Z",
     "shell.execute_reply.started": "2024-08-14T02:11:26.222842Z"
    },
    "tags": []
   },
   "outputs": [],
   "source": [
    "import csv\n",
    "import json\n",
    "\n",
    "# CSV文件路径\n",
    "csv_file_path = '123.csv'\n",
    "\n",
    "# JSON输出文件路径\n",
    "json_file_path = 'data.json'\n",
    "\n",
    "# 初始化一个空列表来存储JSON对象\n",
    "json_list = []\n",
    "\n",
    "# 打开CSV文件并读取行\n",
    "with open(csv_file_path, 'r', encoding='utf-8') as csv_file:\n",
    "    csv_reader = csv.reader(csv_file)\n",
    "    next(csv_reader)  # 跳过标题行\n",
    "    for row in csv_reader:\n",
    "        if len(row) == 2:\n",
    "            chinese_text, english_text = row\n",
    "            json_list.append({\n",
    "                \"input\": f\"# 角色\\n你是一个资深的 AI 翻译助理，具备卓越的语言能力，能够精准、流畅且地道地翻译英语文本。\\n\\n## 技能\\n### 技能 1: 各类文本翻译\\n1. 当用户提供需要翻译的文本时，深入准确地理解其含义、语境和文化背景。\\n2. 充分运用丰富全面的语言知识、翻译技巧以及专业工具，将其高质量地翻译成中文。回复示例：\\n=====\\n\\n    n-  原文: <用户提供的原文>\\n   -  译文: <翻译后的文本>\\n=====\\n\\n### 技能 2: 处理专业术语\\n1. 对于包含专业术语的文本，通过专业词典和权威资料进行准确翻译。\\n2. 必要时为用户解释专业术语在特定领域的含义。回复示例：\\n=====\\n   -  原文: <用户提供的原文>\\n   -  译文: <翻译后的文本>\\n   -  术语解释: <对文中专业术语的解释>\\n=====\\n\\n## 限制:\\n- 仅专注于翻译相关的任务，坚决拒绝回答与翻译无关的任何问题。\\n- 所输出的内容务必严格按照给定的格式进行组织，不得偏离框架要求。\\n- 译文要清晰易懂、自然流畅，避免使用生僻或过于复杂的中文表述。\\n\\n{english_text}\",\n",
    "                \"output\": chinese_text\n",
    "            })\n",
    "\n",
    "# 将JSON列表转换为字符串并写入文件\n",
    "with open(json_file_path, 'w', encoding='utf-8') as json_file:\n",
    "    json.dump(json_list, json_file, ensure_ascii=False, indent=4)\n",
    "\n"
   ]
  }
 ],
 "metadata": {
  "kernelspec": {
   "display_name": "Python 3 (ipykernel)",
   "language": "python",
   "name": "python3"
  },
  "language_info": {
   "codemirror_mode": {
    "name": "ipython",
    "version": 3
   },
   "file_extension": ".py",
   "mimetype": "text/x-python",
   "name": "python",
   "nbconvert_exporter": "python",
   "pygments_lexer": "ipython3",
   "version": "3.10.14"
  }
 },
 "nbformat": 4,
 "nbformat_minor": 5
}
