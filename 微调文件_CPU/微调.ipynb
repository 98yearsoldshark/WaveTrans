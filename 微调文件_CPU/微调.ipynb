{
 "cells": [
  {
   "cell_type": "markdown",
   "id": "2676df8c",
   "metadata": {},
   "source": [
    " ## Task 4：源大模型微调实战"
   ]
  },
  {
   "cell_type": "markdown",
   "id": "27e1881c-f360-4a06-8e0a-abf75524e022",
   "metadata": {
    "execution": {
     "iopub.execute_input": "2024-07-25T13:22:30.552735Z",
     "iopub.status.busy": "2024-07-25T13:22:30.552479Z",
     "iopub.status.idle": "2024-07-25T13:22:30.555540Z",
     "shell.execute_reply": "2024-07-25T13:22:30.554971Z",
     "shell.execute_reply.started": "2024-07-25T13:22:30.552716Z"
    },
    "tags": []
   },
   "source": [
    "### 2.1 环境准备"
   ]
  },
  {
   "cell_type": "code",
   "execution_count": 1,
   "id": "bc1e15c7-6663-4060-9e48-10487e10746d",
   "metadata": {
    "ExecutionIndicator": {
     "show": true
    },
    "scrolled": true,
    "tags": []
   },
   "outputs": [
    {
     "name": "stdout",
     "output_type": "stream",
     "text": [
      "Package                        Version\n",
      "------------------------------ --------------\n",
      "absl-py                        2.1.0\n",
      "accelerate                     0.33.0\n",
      "aiohappyeyeballs               2.4.0\n",
      "aiohttp                        3.10.5\n",
      "aiosignal                      1.3.1\n",
      "altair                         5.4.0\n",
      "anyio                          4.4.0\n",
      "argon2-cffi                    23.1.0\n",
      "argon2-cffi-bindings           21.2.0\n",
      "arrow                          1.3.0\n",
      "asttokens                      2.4.1\n",
      "async-lru                      2.0.4\n",
      "async-timeout                  4.0.3\n",
      "attrs                          23.2.0\n",
      "Babel                          2.15.0\n",
      "beautifulsoup4                 4.12.3\n",
      "bleach                         6.1.0\n",
      "blinker                        1.8.2\n",
      "brotlipy                       0.7.0\n",
      "cachetools                     5.5.0\n",
      "certifi                        2022.12.7\n",
      "cffi                           1.15.1\n",
      "charset-normalizer             2.0.4\n",
      "click                          8.1.7\n",
      "comm                           0.2.2\n",
      "conda                          22.11.1\n",
      "conda-content-trust            0.1.3\n",
      "conda-package-handling         1.9.0\n",
      "contourpy                      1.2.1\n",
      "cryptography                   38.0.1\n",
      "cycler                         0.12.1\n",
      "datasets                       2.21.0\n",
      "debugpy                        1.8.1\n",
      "decorator                      5.1.1\n",
      "defusedxml                     0.7.1\n",
      "dill                           0.3.8\n",
      "einops                         0.8.0\n",
      "exceptiongroup                 1.2.1\n",
      "executing                      2.0.1\n",
      "fastjsonschema                 2.19.1\n",
      "filelock                       3.14.0\n",
      "fonttools                      4.53.0\n",
      "fqdn                           1.5.1\n",
      "frozenlist                     1.4.1\n",
      "fsspec                         2024.6.0\n",
      "gitdb                          4.0.11\n",
      "GitPython                      3.1.43\n",
      "grpcio                         1.64.1\n",
      "h11                            0.14.0\n",
      "httpcore                       1.0.5\n",
      "httpx                          0.27.0\n",
      "huggingface-hub                0.24.6\n",
      "idna                           3.4\n",
      "importlib-metadata             6.11.0\n",
      "ipykernel                      6.29.4\n",
      "ipython                        8.25.0\n",
      "ipywidgets                     8.1.3\n",
      "isoduration                    20.11.0\n",
      "jedi                           0.19.1\n",
      "Jinja2                         3.1.4\n",
      "json5                          0.9.25\n",
      "jsonpointer                    3.0.0\n",
      "jsonschema                     4.22.0\n",
      "jsonschema-specifications      2023.12.1\n",
      "jupyter_client                 8.6.2\n",
      "jupyter_core                   5.7.2\n",
      "jupyter-events                 0.10.0\n",
      "jupyter-lsp                    2.2.5\n",
      "jupyter_server                 2.14.1\n",
      "jupyter_server_terminals       0.5.3\n",
      "jupyterlab                     4.2.2\n",
      "jupyterlab-language-pack-zh-CN 4.2.post1\n",
      "jupyterlab_pygments            0.3.0\n",
      "jupyterlab_server              2.27.2\n",
      "jupyterlab_widgets             3.0.11\n",
      "kiwisolver                     1.4.5\n",
      "Markdown                       3.6\n",
      "markdown-it-py                 3.0.0\n",
      "MarkupSafe                     2.1.5\n",
      "matplotlib                     3.9.0\n",
      "matplotlib-inline              0.1.7\n",
      "mdurl                          0.1.2\n",
      "mistune                        3.0.2\n",
      "modelscope                     1.17.1\n",
      "mpmath                         1.3.0\n",
      "multidict                      6.0.5\n",
      "multiprocess                   0.70.16\n",
      "narwhals                       1.5.2\n",
      "nbclient                       0.10.0\n",
      "nbconvert                      7.16.4\n",
      "nbformat                       5.10.4\n",
      "nest-asyncio                   1.6.0\n",
      "networkx                       3.3\n",
      "notebook_shim                  0.2.4\n",
      "numpy                          1.26.4\n",
      "overrides                      7.7.0\n",
      "packaging                      23.2\n",
      "pandas                         2.2.2\n",
      "pandocfilters                  1.5.1\n",
      "parso                          0.8.4\n",
      "peft                           0.12.0\n",
      "pexpect                        4.9.0\n",
      "Pillow                         9.5.0\n",
      "pip                            22.3.1\n",
      "platformdirs                   4.2.2\n",
      "pluggy                         1.0.0\n",
      "prometheus_client              0.20.0\n",
      "prompt_toolkit                 3.0.47\n",
      "protobuf                       4.25.3\n",
      "psutil                         5.9.8\n",
      "ptyprocess                     0.7.0\n",
      "pure-eval                      0.2.2\n",
      "pyarrow                        17.0.0\n",
      "pycosat                        0.6.4\n",
      "pycparser                      2.21\n",
      "pydeck                         0.9.1\n",
      "Pygments                       2.18.0\n",
      "Pympler                        1.1\n",
      "pyOpenSSL                      22.0.0\n",
      "pyparsing                      3.1.2\n",
      "PySocks                        1.7.1\n",
      "python-dateutil                2.9.0.post0\n",
      "python-json-logger             2.0.7\n",
      "pytz                           2024.1\n",
      "pytz-deprecation-shim          0.1.0.post0\n",
      "PyYAML                         6.0.1\n",
      "pyzmq                          26.0.3\n",
      "referencing                    0.35.1\n",
      "regex                          2024.7.24\n",
      "requests                       2.32.3\n",
      "rfc3339-validator              0.1.4\n",
      "rfc3986-validator              0.1.1\n",
      "rich                           13.7.1\n",
      "rpds-py                        0.18.1\n",
      "ruamel.yaml                    0.17.21\n",
      "ruamel.yaml.clib               0.2.6\n",
      "safetensors                    0.4.4\n",
      "Send2Trash                     1.8.3\n",
      "sentencepiece                  0.2.0\n",
      "setuptools                     65.5.0\n",
      "six                            1.16.0\n",
      "smmap                          5.0.1\n",
      "sniffio                        1.3.1\n",
      "soupsieve                      2.5\n",
      "stack-data                     0.6.3\n",
      "streamlit                      1.24.0\n",
      "supervisor                     4.2.5\n",
      "sympy                          1.12.1\n",
      "tenacity                       8.5.0\n",
      "tensorboard                    2.17.0\n",
      "tensorboard-data-server        0.7.2\n",
      "terminado                      0.18.1\n",
      "tinycss2                       1.3.0\n",
      "tokenizers                     0.19.1\n",
      "toml                           0.10.2\n",
      "tomli                          2.0.1\n",
      "toolz                          0.12.0\n",
      "torch                          2.1.2+cu118\n",
      "torchvision                    0.16.2+cu118\n",
      "tornado                        6.4.1\n",
      "tqdm                           4.66.5\n",
      "traitlets                      5.14.3\n",
      "transformers                   4.44.1\n",
      "triton                         2.1.0\n",
      "types-python-dateutil          2.9.0.20240316\n",
      "typing_extensions              4.12.2\n",
      "tzdata                         2024.1\n",
      "tzlocal                        4.3.1\n",
      "uri-template                   1.3.0\n",
      "urllib3                        1.26.13\n",
      "validators                     0.33.0\n",
      "watchdog                       4.0.2\n",
      "wcwidth                        0.2.13\n",
      "webcolors                      24.6.0\n",
      "webencodings                   0.5.1\n",
      "websocket-client               1.8.0\n",
      "Werkzeug                       3.0.3\n",
      "wheel                          0.37.1\n",
      "widgetsnbextension             4.0.11\n",
      "xxhash                         3.5.0\n",
      "yarl                           1.9.4\n",
      "zipp                           3.20.0\n"
     ]
    }
   ],
   "source": [
    "# 查看已安装依赖\n",
    "! pip list"
   ]
  },
  {
   "cell_type": "code",
   "execution_count": 2,
   "id": "20b30a21-5618-4379-b10b-fcecc2a8d248",
   "metadata": {
    "ExecutionIndicator": {
     "show": true
    },
    "scrolled": true,
    "tags": []
   },
   "outputs": [
    {
     "name": "stdout",
     "output_type": "stream",
     "text": [
      "Looking in indexes: https://pypi.tuna.tsinghua.edu.cn/simple\n",
      "Requirement already satisfied: streamlit==1.24.0 in ./miniconda3/lib/python3.10/site-packages (1.24.0)\n",
      "Requirement already satisfied: pydeck<1,>=0.1.dev5 in ./miniconda3/lib/python3.10/site-packages (from streamlit==1.24.0) (0.9.1)\n",
      "Requirement already satisfied: pandas<3,>=0.25 in ./miniconda3/lib/python3.10/site-packages (from streamlit==1.24.0) (2.2.2)\n",
      "Requirement already satisfied: blinker<2,>=1.0.0 in ./miniconda3/lib/python3.10/site-packages (from streamlit==1.24.0) (1.8.2)\n",
      "Requirement already satisfied: validators<1,>=0.2 in ./miniconda3/lib/python3.10/site-packages (from streamlit==1.24.0) (0.33.0)\n",
      "Requirement already satisfied: gitpython!=3.1.19,<4,>=3 in ./miniconda3/lib/python3.10/site-packages (from streamlit==1.24.0) (3.1.43)\n",
      "Requirement already satisfied: altair<6,>=4.0 in ./miniconda3/lib/python3.10/site-packages (from streamlit==1.24.0) (5.4.0)\n",
      "Requirement already satisfied: pyarrow>=4.0 in ./miniconda3/lib/python3.10/site-packages (from streamlit==1.24.0) (17.0.0)\n",
      "Requirement already satisfied: typing-extensions<5,>=4.0.1 in ./miniconda3/lib/python3.10/site-packages (from streamlit==1.24.0) (4.12.2)\n",
      "Requirement already satisfied: numpy<2,>=1 in ./miniconda3/lib/python3.10/site-packages (from streamlit==1.24.0) (1.26.4)\n",
      "Requirement already satisfied: protobuf<5,>=3.20 in ./miniconda3/lib/python3.10/site-packages (from streamlit==1.24.0) (4.25.3)\n",
      "Requirement already satisfied: requests<3,>=2.4 in ./miniconda3/lib/python3.10/site-packages (from streamlit==1.24.0) (2.32.3)\n",
      "Requirement already satisfied: click<9,>=7.0 in ./miniconda3/lib/python3.10/site-packages (from streamlit==1.24.0) (8.1.7)\n",
      "Requirement already satisfied: tzlocal<5,>=1.1 in ./miniconda3/lib/python3.10/site-packages (from streamlit==1.24.0) (4.3.1)\n",
      "Requirement already satisfied: packaging<24,>=14.1 in ./miniconda3/lib/python3.10/site-packages (from streamlit==1.24.0) (23.2)\n",
      "Requirement already satisfied: tornado<7,>=6.0.3 in ./miniconda3/lib/python3.10/site-packages (from streamlit==1.24.0) (6.4.1)\n",
      "Requirement already satisfied: importlib-metadata<7,>=1.4 in ./miniconda3/lib/python3.10/site-packages (from streamlit==1.24.0) (6.11.0)\n",
      "Requirement already satisfied: pillow<10,>=6.2.0 in ./miniconda3/lib/python3.10/site-packages (from streamlit==1.24.0) (9.5.0)\n",
      "Requirement already satisfied: rich<14,>=10.11.0 in ./miniconda3/lib/python3.10/site-packages (from streamlit==1.24.0) (13.7.1)\n",
      "Requirement already satisfied: pympler<2,>=0.9 in ./miniconda3/lib/python3.10/site-packages (from streamlit==1.24.0) (1.1)\n",
      "Requirement already satisfied: watchdog in ./miniconda3/lib/python3.10/site-packages (from streamlit==1.24.0) (4.0.2)\n",
      "Requirement already satisfied: cachetools<6,>=4.0 in ./miniconda3/lib/python3.10/site-packages (from streamlit==1.24.0) (5.5.0)\n",
      "Requirement already satisfied: tenacity<9,>=8.0.0 in ./miniconda3/lib/python3.10/site-packages (from streamlit==1.24.0) (8.5.0)\n",
      "Requirement already satisfied: toml<2 in ./miniconda3/lib/python3.10/site-packages (from streamlit==1.24.0) (0.10.2)\n",
      "Requirement already satisfied: python-dateutil<3,>=2 in ./miniconda3/lib/python3.10/site-packages (from streamlit==1.24.0) (2.9.0.post0)\n",
      "Requirement already satisfied: jinja2 in ./miniconda3/lib/python3.10/site-packages (from altair<6,>=4.0->streamlit==1.24.0) (3.1.4)\n",
      "Requirement already satisfied: narwhals>=1.1.0 in ./miniconda3/lib/python3.10/site-packages (from altair<6,>=4.0->streamlit==1.24.0) (1.5.2)\n",
      "Requirement already satisfied: jsonschema>=3.0 in ./miniconda3/lib/python3.10/site-packages (from altair<6,>=4.0->streamlit==1.24.0) (4.22.0)\n",
      "Requirement already satisfied: gitdb<5,>=4.0.1 in ./miniconda3/lib/python3.10/site-packages (from gitpython!=3.1.19,<4,>=3->streamlit==1.24.0) (4.0.11)\n",
      "Requirement already satisfied: zipp>=0.5 in ./miniconda3/lib/python3.10/site-packages (from importlib-metadata<7,>=1.4->streamlit==1.24.0) (3.20.0)\n",
      "Requirement already satisfied: pytz>=2020.1 in ./miniconda3/lib/python3.10/site-packages (from pandas<3,>=0.25->streamlit==1.24.0) (2024.1)\n",
      "Requirement already satisfied: tzdata>=2022.7 in ./miniconda3/lib/python3.10/site-packages (from pandas<3,>=0.25->streamlit==1.24.0) (2024.1)\n",
      "Requirement already satisfied: six>=1.5 in ./miniconda3/lib/python3.10/site-packages (from python-dateutil<3,>=2->streamlit==1.24.0) (1.16.0)\n",
      "Requirement already satisfied: certifi>=2017.4.17 in ./miniconda3/lib/python3.10/site-packages (from requests<3,>=2.4->streamlit==1.24.0) (2022.12.7)\n",
      "Requirement already satisfied: idna<4,>=2.5 in ./miniconda3/lib/python3.10/site-packages (from requests<3,>=2.4->streamlit==1.24.0) (3.4)\n",
      "Requirement already satisfied: charset-normalizer<4,>=2 in ./miniconda3/lib/python3.10/site-packages (from requests<3,>=2.4->streamlit==1.24.0) (2.0.4)\n",
      "Requirement already satisfied: urllib3<3,>=1.21.1 in ./miniconda3/lib/python3.10/site-packages (from requests<3,>=2.4->streamlit==1.24.0) (1.26.13)\n",
      "Requirement already satisfied: pygments<3.0.0,>=2.13.0 in ./miniconda3/lib/python3.10/site-packages (from rich<14,>=10.11.0->streamlit==1.24.0) (2.18.0)\n",
      "Requirement already satisfied: markdown-it-py>=2.2.0 in ./miniconda3/lib/python3.10/site-packages (from rich<14,>=10.11.0->streamlit==1.24.0) (3.0.0)\n",
      "Requirement already satisfied: pytz-deprecation-shim in ./miniconda3/lib/python3.10/site-packages (from tzlocal<5,>=1.1->streamlit==1.24.0) (0.1.0.post0)\n",
      "Requirement already satisfied: smmap<6,>=3.0.1 in ./miniconda3/lib/python3.10/site-packages (from gitdb<5,>=4.0.1->gitpython!=3.1.19,<4,>=3->streamlit==1.24.0) (5.0.1)\n",
      "Requirement already satisfied: MarkupSafe>=2.0 in ./miniconda3/lib/python3.10/site-packages (from jinja2->altair<6,>=4.0->streamlit==1.24.0) (2.1.5)\n",
      "Requirement already satisfied: attrs>=22.2.0 in ./miniconda3/lib/python3.10/site-packages (from jsonschema>=3.0->altair<6,>=4.0->streamlit==1.24.0) (23.2.0)\n",
      "Requirement already satisfied: referencing>=0.28.4 in ./miniconda3/lib/python3.10/site-packages (from jsonschema>=3.0->altair<6,>=4.0->streamlit==1.24.0) (0.35.1)\n",
      "Requirement already satisfied: jsonschema-specifications>=2023.03.6 in ./miniconda3/lib/python3.10/site-packages (from jsonschema>=3.0->altair<6,>=4.0->streamlit==1.24.0) (2023.12.1)\n",
      "Requirement already satisfied: rpds-py>=0.7.1 in ./miniconda3/lib/python3.10/site-packages (from jsonschema>=3.0->altair<6,>=4.0->streamlit==1.24.0) (0.18.1)\n",
      "Requirement already satisfied: mdurl~=0.1 in ./miniconda3/lib/python3.10/site-packages (from markdown-it-py>=2.2.0->rich<14,>=10.11.0->streamlit==1.24.0) (0.1.2)\n",
      "\u001b[33mWARNING: Running pip as the 'root' user can result in broken permissions and conflicting behaviour with the system package manager. It is recommended to use a virtual environment instead: https://pip.pypa.io/warnings/venv\u001b[0m\u001b[33m\n",
      "\u001b[0m"
     ]
    }
   ],
   "source": [
    "# 安装 streamlit\n",
    "! pip install streamlit==1.24.0"
   ]
  },
  {
   "cell_type": "code",
   "execution_count": 3,
   "id": "cd27b47c-26fe-4f9d-a043-f36852756bac",
   "metadata": {
    "scrolled": true
   },
   "outputs": [
    {
     "name": "stdout",
     "output_type": "stream",
     "text": [
      "Looking in indexes: https://pypi.tuna.tsinghua.edu.cn/simple\n",
      "Requirement already satisfied: modelscope in ./miniconda3/lib/python3.10/site-packages (1.17.1)\n",
      "Requirement already satisfied: requests>=2.25 in ./miniconda3/lib/python3.10/site-packages (from modelscope) (2.32.3)\n",
      "Requirement already satisfied: tqdm>=4.64.0 in ./miniconda3/lib/python3.10/site-packages (from modelscope) (4.66.5)\n",
      "Requirement already satisfied: urllib3>=1.26 in ./miniconda3/lib/python3.10/site-packages (from modelscope) (1.26.13)\n",
      "Requirement already satisfied: idna<4,>=2.5 in ./miniconda3/lib/python3.10/site-packages (from requests>=2.25->modelscope) (3.4)\n",
      "Requirement already satisfied: certifi>=2017.4.17 in ./miniconda3/lib/python3.10/site-packages (from requests>=2.25->modelscope) (2022.12.7)\n",
      "Requirement already satisfied: charset-normalizer<4,>=2 in ./miniconda3/lib/python3.10/site-packages (from requests>=2.25->modelscope) (2.0.4)\n",
      "\u001b[33mWARNING: Running pip as the 'root' user can result in broken permissions and conflicting behaviour with the system package manager. It is recommended to use a virtual environment instead: https://pip.pypa.io/warnings/venv\u001b[0m\u001b[33m\n",
      "\u001b[0m"
     ]
    }
   ],
   "source": [
    "# 安装 modelscope 库\n",
    "! pip install modelscope"
   ]
  },
  {
   "cell_type": "code",
   "execution_count": 4,
   "id": "7f1f6eba-30b9-493a-a0d5-d7380988461d",
   "metadata": {
    "scrolled": true
   },
   "outputs": [
    {
     "name": "stdout",
     "output_type": "stream",
     "text": [
      "Looking in indexes: https://pypi.tuna.tsinghua.edu.cn/simple\n",
      "Requirement already satisfied: datasets in ./miniconda3/lib/python3.10/site-packages (2.21.0)\n",
      "Requirement already satisfied: xxhash in ./miniconda3/lib/python3.10/site-packages (from datasets) (3.5.0)\n",
      "Requirement already satisfied: fsspec[http]<=2024.6.1,>=2023.1.0 in ./miniconda3/lib/python3.10/site-packages (from datasets) (2024.6.0)\n",
      "Requirement already satisfied: requests>=2.32.2 in ./miniconda3/lib/python3.10/site-packages (from datasets) (2.32.3)\n",
      "Requirement already satisfied: tqdm>=4.66.3 in ./miniconda3/lib/python3.10/site-packages (from datasets) (4.66.5)\n",
      "Requirement already satisfied: multiprocess in ./miniconda3/lib/python3.10/site-packages (from datasets) (0.70.16)\n",
      "Requirement already satisfied: aiohttp in ./miniconda3/lib/python3.10/site-packages (from datasets) (3.10.5)\n",
      "Requirement already satisfied: pyarrow>=15.0.0 in ./miniconda3/lib/python3.10/site-packages (from datasets) (17.0.0)\n",
      "Requirement already satisfied: numpy>=1.17 in ./miniconda3/lib/python3.10/site-packages (from datasets) (1.26.4)\n",
      "Requirement already satisfied: filelock in ./miniconda3/lib/python3.10/site-packages (from datasets) (3.14.0)\n",
      "Requirement already satisfied: dill<0.3.9,>=0.3.0 in ./miniconda3/lib/python3.10/site-packages (from datasets) (0.3.8)\n",
      "Requirement already satisfied: packaging in ./miniconda3/lib/python3.10/site-packages (from datasets) (23.2)\n",
      "Requirement already satisfied: pandas in ./miniconda3/lib/python3.10/site-packages (from datasets) (2.2.2)\n",
      "Requirement already satisfied: pyyaml>=5.1 in ./miniconda3/lib/python3.10/site-packages (from datasets) (6.0.1)\n",
      "Requirement already satisfied: huggingface-hub>=0.21.2 in ./miniconda3/lib/python3.10/site-packages (from datasets) (0.24.6)\n",
      "Requirement already satisfied: aiohappyeyeballs>=2.3.0 in ./miniconda3/lib/python3.10/site-packages (from aiohttp->datasets) (2.4.0)\n",
      "Requirement already satisfied: async-timeout<5.0,>=4.0 in ./miniconda3/lib/python3.10/site-packages (from aiohttp->datasets) (4.0.3)\n",
      "Requirement already satisfied: yarl<2.0,>=1.0 in ./miniconda3/lib/python3.10/site-packages (from aiohttp->datasets) (1.9.4)\n",
      "Requirement already satisfied: frozenlist>=1.1.1 in ./miniconda3/lib/python3.10/site-packages (from aiohttp->datasets) (1.4.1)\n",
      "Requirement already satisfied: attrs>=17.3.0 in ./miniconda3/lib/python3.10/site-packages (from aiohttp->datasets) (23.2.0)\n",
      "Requirement already satisfied: aiosignal>=1.1.2 in ./miniconda3/lib/python3.10/site-packages (from aiohttp->datasets) (1.3.1)\n",
      "Requirement already satisfied: multidict<7.0,>=4.5 in ./miniconda3/lib/python3.10/site-packages (from aiohttp->datasets) (6.0.5)\n",
      "Requirement already satisfied: typing-extensions>=3.7.4.3 in ./miniconda3/lib/python3.10/site-packages (from huggingface-hub>=0.21.2->datasets) (4.12.2)\n",
      "Requirement already satisfied: certifi>=2017.4.17 in ./miniconda3/lib/python3.10/site-packages (from requests>=2.32.2->datasets) (2022.12.7)\n",
      "Requirement already satisfied: urllib3<3,>=1.21.1 in ./miniconda3/lib/python3.10/site-packages (from requests>=2.32.2->datasets) (1.26.13)\n",
      "Requirement already satisfied: idna<4,>=2.5 in ./miniconda3/lib/python3.10/site-packages (from requests>=2.32.2->datasets) (3.4)\n",
      "Requirement already satisfied: charset-normalizer<4,>=2 in ./miniconda3/lib/python3.10/site-packages (from requests>=2.32.2->datasets) (2.0.4)\n",
      "Requirement already satisfied: python-dateutil>=2.8.2 in ./miniconda3/lib/python3.10/site-packages (from pandas->datasets) (2.9.0.post0)\n",
      "Requirement already satisfied: pytz>=2020.1 in ./miniconda3/lib/python3.10/site-packages (from pandas->datasets) (2024.1)\n",
      "Requirement already satisfied: tzdata>=2022.7 in ./miniconda3/lib/python3.10/site-packages (from pandas->datasets) (2024.1)\n",
      "Requirement already satisfied: six>=1.5 in ./miniconda3/lib/python3.10/site-packages (from python-dateutil>=2.8.2->pandas->datasets) (1.16.0)\n",
      "\u001b[33mWARNING: Running pip as the 'root' user can result in broken permissions and conflicting behaviour with the system package manager. It is recommended to use a virtual environment instead: https://pip.pypa.io/warnings/venv\u001b[0m\u001b[33m\n",
      "\u001b[0mLooking in indexes: https://pypi.tuna.tsinghua.edu.cn/simple\n",
      "Requirement already satisfied: transformers in ./miniconda3/lib/python3.10/site-packages (4.44.1)\n",
      "Requirement already satisfied: filelock in ./miniconda3/lib/python3.10/site-packages (from transformers) (3.14.0)\n",
      "Requirement already satisfied: numpy>=1.17 in ./miniconda3/lib/python3.10/site-packages (from transformers) (1.26.4)\n",
      "Requirement already satisfied: tqdm>=4.27 in ./miniconda3/lib/python3.10/site-packages (from transformers) (4.66.5)\n",
      "Requirement already satisfied: requests in ./miniconda3/lib/python3.10/site-packages (from transformers) (2.32.3)\n",
      "Requirement already satisfied: packaging>=20.0 in ./miniconda3/lib/python3.10/site-packages (from transformers) (23.2)\n",
      "Requirement already satisfied: regex!=2019.12.17 in ./miniconda3/lib/python3.10/site-packages (from transformers) (2024.7.24)\n",
      "Requirement already satisfied: pyyaml>=5.1 in ./miniconda3/lib/python3.10/site-packages (from transformers) (6.0.1)\n",
      "Requirement already satisfied: huggingface-hub<1.0,>=0.23.2 in ./miniconda3/lib/python3.10/site-packages (from transformers) (0.24.6)\n",
      "Requirement already satisfied: tokenizers<0.20,>=0.19 in ./miniconda3/lib/python3.10/site-packages (from transformers) (0.19.1)\n",
      "Requirement already satisfied: safetensors>=0.4.1 in ./miniconda3/lib/python3.10/site-packages (from transformers) (0.4.4)\n",
      "Requirement already satisfied: typing-extensions>=3.7.4.3 in ./miniconda3/lib/python3.10/site-packages (from huggingface-hub<1.0,>=0.23.2->transformers) (4.12.2)\n",
      "Requirement already satisfied: fsspec>=2023.5.0 in ./miniconda3/lib/python3.10/site-packages (from huggingface-hub<1.0,>=0.23.2->transformers) (2024.6.0)\n",
      "Requirement already satisfied: charset-normalizer<4,>=2 in ./miniconda3/lib/python3.10/site-packages (from requests->transformers) (2.0.4)\n",
      "Requirement already satisfied: urllib3<3,>=1.21.1 in ./miniconda3/lib/python3.10/site-packages (from requests->transformers) (1.26.13)\n",
      "Requirement already satisfied: certifi>=2017.4.17 in ./miniconda3/lib/python3.10/site-packages (from requests->transformers) (2022.12.7)\n",
      "Requirement already satisfied: idna<4,>=2.5 in ./miniconda3/lib/python3.10/site-packages (from requests->transformers) (3.4)\n",
      "\u001b[33mWARNING: Running pip as the 'root' user can result in broken permissions and conflicting behaviour with the system package manager. It is recommended to use a virtual environment instead: https://pip.pypa.io/warnings/venv\u001b[0m\u001b[33m\n",
      "\u001b[0m"
     ]
    }
   ],
   "source": [
    "# 安装 datasets 、transformers库\n",
    "! pip install datasets\n",
    "! pip install transformers\n"
   ]
  },
  {
   "cell_type": "code",
   "execution_count": 5,
   "id": "df8941a8-a318-4dd4-a2b5-29efe719566f",
   "metadata": {},
   "outputs": [
    {
     "name": "stdout",
     "output_type": "stream",
     "text": [
      "Looking in indexes: https://pypi.tuna.tsinghua.edu.cn/simple\n",
      "Requirement already satisfied: sentencepiece in ./miniconda3/lib/python3.10/site-packages (0.2.0)\n",
      "\u001b[33mWARNING: Running pip as the 'root' user can result in broken permissions and conflicting behaviour with the system package manager. It is recommended to use a virtual environment instead: https://pip.pypa.io/warnings/venv\u001b[0m\u001b[33m\n",
      "\u001b[0mLooking in indexes: https://pypi.tuna.tsinghua.edu.cn/simple\n",
      "Requirement already satisfied: einops in ./miniconda3/lib/python3.10/site-packages (0.8.0)\n",
      "\u001b[33mWARNING: Running pip as the 'root' user can result in broken permissions and conflicting behaviour with the system package manager. It is recommended to use a virtual environment instead: https://pip.pypa.io/warnings/venv\u001b[0m\u001b[33m\n",
      "\u001b[0mLooking in indexes: https://pypi.tuna.tsinghua.edu.cn/simple\n",
      "Requirement already satisfied: peft in ./miniconda3/lib/python3.10/site-packages (0.12.0)\n",
      "Requirement already satisfied: tqdm in ./miniconda3/lib/python3.10/site-packages (from peft) (4.66.5)\n",
      "Requirement already satisfied: packaging>=20.0 in ./miniconda3/lib/python3.10/site-packages (from peft) (23.2)\n",
      "Requirement already satisfied: huggingface-hub>=0.17.0 in ./miniconda3/lib/python3.10/site-packages (from peft) (0.24.6)\n",
      "Requirement already satisfied: torch>=1.13.0 in ./miniconda3/lib/python3.10/site-packages (from peft) (2.1.2+cu118)\n",
      "Requirement already satisfied: transformers in ./miniconda3/lib/python3.10/site-packages (from peft) (4.44.1)\n",
      "Requirement already satisfied: safetensors in ./miniconda3/lib/python3.10/site-packages (from peft) (0.4.4)\n",
      "Requirement already satisfied: accelerate>=0.21.0 in ./miniconda3/lib/python3.10/site-packages (from peft) (0.33.0)\n",
      "Requirement already satisfied: numpy>=1.17 in ./miniconda3/lib/python3.10/site-packages (from peft) (1.26.4)\n",
      "Requirement already satisfied: pyyaml in ./miniconda3/lib/python3.10/site-packages (from peft) (6.0.1)\n",
      "Requirement already satisfied: psutil in ./miniconda3/lib/python3.10/site-packages (from peft) (5.9.8)\n",
      "Requirement already satisfied: fsspec>=2023.5.0 in ./miniconda3/lib/python3.10/site-packages (from huggingface-hub>=0.17.0->peft) (2024.6.0)\n",
      "Requirement already satisfied: requests in ./miniconda3/lib/python3.10/site-packages (from huggingface-hub>=0.17.0->peft) (2.32.3)\n",
      "Requirement already satisfied: typing-extensions>=3.7.4.3 in ./miniconda3/lib/python3.10/site-packages (from huggingface-hub>=0.17.0->peft) (4.12.2)\n",
      "Requirement already satisfied: filelock in ./miniconda3/lib/python3.10/site-packages (from huggingface-hub>=0.17.0->peft) (3.14.0)\n",
      "Requirement already satisfied: triton==2.1.0 in ./miniconda3/lib/python3.10/site-packages (from torch>=1.13.0->peft) (2.1.0)\n",
      "Requirement already satisfied: jinja2 in ./miniconda3/lib/python3.10/site-packages (from torch>=1.13.0->peft) (3.1.4)\n",
      "Requirement already satisfied: sympy in ./miniconda3/lib/python3.10/site-packages (from torch>=1.13.0->peft) (1.12.1)\n",
      "Requirement already satisfied: networkx in ./miniconda3/lib/python3.10/site-packages (from torch>=1.13.0->peft) (3.3)\n",
      "Requirement already satisfied: tokenizers<0.20,>=0.19 in ./miniconda3/lib/python3.10/site-packages (from transformers->peft) (0.19.1)\n",
      "Requirement already satisfied: regex!=2019.12.17 in ./miniconda3/lib/python3.10/site-packages (from transformers->peft) (2024.7.24)\n",
      "Requirement already satisfied: MarkupSafe>=2.0 in ./miniconda3/lib/python3.10/site-packages (from jinja2->torch>=1.13.0->peft) (2.1.5)\n",
      "Requirement already satisfied: charset-normalizer<4,>=2 in ./miniconda3/lib/python3.10/site-packages (from requests->huggingface-hub>=0.17.0->peft) (2.0.4)\n",
      "Requirement already satisfied: urllib3<3,>=1.21.1 in ./miniconda3/lib/python3.10/site-packages (from requests->huggingface-hub>=0.17.0->peft) (1.26.13)\n",
      "Requirement already satisfied: certifi>=2017.4.17 in ./miniconda3/lib/python3.10/site-packages (from requests->huggingface-hub>=0.17.0->peft) (2022.12.7)\n",
      "Requirement already satisfied: idna<4,>=2.5 in ./miniconda3/lib/python3.10/site-packages (from requests->huggingface-hub>=0.17.0->peft) (3.4)\n",
      "Requirement already satisfied: mpmath<1.4.0,>=1.1.0 in ./miniconda3/lib/python3.10/site-packages (from sympy->torch>=1.13.0->peft) (1.3.0)\n",
      "\u001b[33mWARNING: Running pip as the 'root' user can result in broken permissions and conflicting behaviour with the system package manager. It is recommended to use a virtual environment instead: https://pip.pypa.io/warnings/venv\u001b[0m\u001b[33m\n",
      "\u001b[0mLooking in indexes: https://pypi.tuna.tsinghua.edu.cn/simple\n",
      "Requirement already satisfied: accelerate in ./miniconda3/lib/python3.10/site-packages (0.33.0)\n",
      "Requirement already satisfied: torch>=1.10.0 in ./miniconda3/lib/python3.10/site-packages (from accelerate) (2.1.2+cu118)\n",
      "Requirement already satisfied: packaging>=20.0 in ./miniconda3/lib/python3.10/site-packages (from accelerate) (23.2)\n",
      "Requirement already satisfied: psutil in ./miniconda3/lib/python3.10/site-packages (from accelerate) (5.9.8)\n",
      "Requirement already satisfied: numpy<2.0.0,>=1.17 in ./miniconda3/lib/python3.10/site-packages (from accelerate) (1.26.4)\n",
      "Requirement already satisfied: safetensors>=0.3.1 in ./miniconda3/lib/python3.10/site-packages (from accelerate) (0.4.4)\n",
      "Requirement already satisfied: pyyaml in ./miniconda3/lib/python3.10/site-packages (from accelerate) (6.0.1)\n",
      "Requirement already satisfied: huggingface-hub>=0.21.0 in ./miniconda3/lib/python3.10/site-packages (from accelerate) (0.24.6)\n",
      "Requirement already satisfied: requests in ./miniconda3/lib/python3.10/site-packages (from huggingface-hub>=0.21.0->accelerate) (2.32.3)\n",
      "Requirement already satisfied: filelock in ./miniconda3/lib/python3.10/site-packages (from huggingface-hub>=0.21.0->accelerate) (3.14.0)\n",
      "Requirement already satisfied: fsspec>=2023.5.0 in ./miniconda3/lib/python3.10/site-packages (from huggingface-hub>=0.21.0->accelerate) (2024.6.0)\n",
      "Requirement already satisfied: typing-extensions>=3.7.4.3 in ./miniconda3/lib/python3.10/site-packages (from huggingface-hub>=0.21.0->accelerate) (4.12.2)\n",
      "Requirement already satisfied: tqdm>=4.42.1 in ./miniconda3/lib/python3.10/site-packages (from huggingface-hub>=0.21.0->accelerate) (4.66.5)\n",
      "Requirement already satisfied: sympy in ./miniconda3/lib/python3.10/site-packages (from torch>=1.10.0->accelerate) (1.12.1)\n",
      "Requirement already satisfied: triton==2.1.0 in ./miniconda3/lib/python3.10/site-packages (from torch>=1.10.0->accelerate) (2.1.0)\n",
      "Requirement already satisfied: networkx in ./miniconda3/lib/python3.10/site-packages (from torch>=1.10.0->accelerate) (3.3)\n",
      "Requirement already satisfied: jinja2 in ./miniconda3/lib/python3.10/site-packages (from torch>=1.10.0->accelerate) (3.1.4)\n",
      "Requirement already satisfied: MarkupSafe>=2.0 in ./miniconda3/lib/python3.10/site-packages (from jinja2->torch>=1.10.0->accelerate) (2.1.5)\n",
      "Requirement already satisfied: charset-normalizer<4,>=2 in ./miniconda3/lib/python3.10/site-packages (from requests->huggingface-hub>=0.21.0->accelerate) (2.0.4)\n",
      "Requirement already satisfied: urllib3<3,>=1.21.1 in ./miniconda3/lib/python3.10/site-packages (from requests->huggingface-hub>=0.21.0->accelerate) (1.26.13)\n",
      "Requirement already satisfied: certifi>=2017.4.17 in ./miniconda3/lib/python3.10/site-packages (from requests->huggingface-hub>=0.21.0->accelerate) (2022.12.7)\n",
      "Requirement already satisfied: idna<4,>=2.5 in ./miniconda3/lib/python3.10/site-packages (from requests->huggingface-hub>=0.21.0->accelerate) (3.4)\n",
      "Requirement already satisfied: mpmath<1.4.0,>=1.1.0 in ./miniconda3/lib/python3.10/site-packages (from sympy->torch>=1.10.0->accelerate) (1.3.0)\n",
      "\u001b[33mWARNING: Running pip as the 'root' user can result in broken permissions and conflicting behaviour with the system package manager. It is recommended to use a virtual environment instead: https://pip.pypa.io/warnings/venv\u001b[0m\u001b[33m\n",
      "\u001b[0m"
     ]
    }
   ],
   "source": [
    "# 安装、sentencepiece 、einops 、peft库\n",
    "! pip install sentencepiece\n",
    "! pip install einops\n",
    "! pip install peft\n",
    "! pip install -U accelerate"
   ]
  },
  {
   "cell_type": "code",
   "execution_count": 6,
   "id": "8dc4cc0f-8fdd-4f13-9499-cec28a6c4b4d",
   "metadata": {},
   "outputs": [
    {
     "name": "stdout",
     "output_type": "stream",
     "text": [
      "Looking in indexes: https://pypi.tuna.tsinghua.edu.cn/simple\n",
      "Requirement already satisfied: accelerate in ./miniconda3/lib/python3.10/site-packages (0.33.0)\n",
      "Requirement already satisfied: safetensors>=0.3.1 in ./miniconda3/lib/python3.10/site-packages (from accelerate) (0.4.4)\n",
      "Requirement already satisfied: huggingface-hub>=0.21.0 in ./miniconda3/lib/python3.10/site-packages (from accelerate) (0.24.6)\n",
      "Requirement already satisfied: psutil in ./miniconda3/lib/python3.10/site-packages (from accelerate) (5.9.8)\n",
      "Requirement already satisfied: pyyaml in ./miniconda3/lib/python3.10/site-packages (from accelerate) (6.0.1)\n",
      "Requirement already satisfied: torch>=1.10.0 in ./miniconda3/lib/python3.10/site-packages (from accelerate) (2.1.2+cu118)\n",
      "Requirement already satisfied: numpy<2.0.0,>=1.17 in ./miniconda3/lib/python3.10/site-packages (from accelerate) (1.26.4)\n",
      "Requirement already satisfied: packaging>=20.0 in ./miniconda3/lib/python3.10/site-packages (from accelerate) (23.2)\n",
      "Requirement already satisfied: typing-extensions>=3.7.4.3 in ./miniconda3/lib/python3.10/site-packages (from huggingface-hub>=0.21.0->accelerate) (4.12.2)\n",
      "Requirement already satisfied: requests in ./miniconda3/lib/python3.10/site-packages (from huggingface-hub>=0.21.0->accelerate) (2.32.3)\n",
      "Requirement already satisfied: tqdm>=4.42.1 in ./miniconda3/lib/python3.10/site-packages (from huggingface-hub>=0.21.0->accelerate) (4.66.5)\n",
      "Requirement already satisfied: fsspec>=2023.5.0 in ./miniconda3/lib/python3.10/site-packages (from huggingface-hub>=0.21.0->accelerate) (2024.6.0)\n",
      "Requirement already satisfied: filelock in ./miniconda3/lib/python3.10/site-packages (from huggingface-hub>=0.21.0->accelerate) (3.14.0)\n",
      "Requirement already satisfied: triton==2.1.0 in ./miniconda3/lib/python3.10/site-packages (from torch>=1.10.0->accelerate) (2.1.0)\n",
      "Requirement already satisfied: networkx in ./miniconda3/lib/python3.10/site-packages (from torch>=1.10.0->accelerate) (3.3)\n",
      "Requirement already satisfied: sympy in ./miniconda3/lib/python3.10/site-packages (from torch>=1.10.0->accelerate) (1.12.1)\n",
      "Requirement already satisfied: jinja2 in ./miniconda3/lib/python3.10/site-packages (from torch>=1.10.0->accelerate) (3.1.4)\n",
      "Requirement already satisfied: MarkupSafe>=2.0 in ./miniconda3/lib/python3.10/site-packages (from jinja2->torch>=1.10.0->accelerate) (2.1.5)\n",
      "Requirement already satisfied: idna<4,>=2.5 in ./miniconda3/lib/python3.10/site-packages (from requests->huggingface-hub>=0.21.0->accelerate) (3.4)\n",
      "Requirement already satisfied: urllib3<3,>=1.21.1 in ./miniconda3/lib/python3.10/site-packages (from requests->huggingface-hub>=0.21.0->accelerate) (1.26.13)\n",
      "Requirement already satisfied: certifi>=2017.4.17 in ./miniconda3/lib/python3.10/site-packages (from requests->huggingface-hub>=0.21.0->accelerate) (2022.12.7)\n",
      "Requirement already satisfied: charset-normalizer<4,>=2 in ./miniconda3/lib/python3.10/site-packages (from requests->huggingface-hub>=0.21.0->accelerate) (2.0.4)\n",
      "Requirement already satisfied: mpmath<1.4.0,>=1.1.0 in ./miniconda3/lib/python3.10/site-packages (from sympy->torch>=1.10.0->accelerate) (1.3.0)\n",
      "\u001b[33mWARNING: Running pip as the 'root' user can result in broken permissions and conflicting behaviour with the system package manager. It is recommended to use a virtual environment instead: https://pip.pypa.io/warnings/venv\u001b[0m\u001b[33m\n",
      "\u001b[0m"
     ]
    }
   ],
   "source": [
    "# 更新 accelerate库\n",
    "! pip install -U accelerate"
   ]
  },
  {
   "cell_type": "markdown",
   "id": "3e959377",
   "metadata": {},
   "source": [
    "### 2.2 模型下载"
   ]
  },
  {
   "cell_type": "code",
   "execution_count": 7,
   "id": "eb2cf3e9",
   "metadata": {
    "scrolled": true
   },
   "outputs": [],
   "source": [
    "from modelscope import snapshot_download\n",
    "model_dir = snapshot_download('IEITYuan/Yuan2-2B-Mars-hf', cache_dir='.')"
   ]
  },
  {
   "cell_type": "markdown",
   "id": "971eb160",
   "metadata": {},
   "source": [
    "### 2.3 数据处理"
   ]
  },
  {
   "cell_type": "code",
   "execution_count": 8,
   "id": "9f62ec38",
   "metadata": {},
   "outputs": [],
   "source": [
    "# 导入环境\n",
    "import torch\n",
    "import pandas as pd\n",
    "from datasets import Dataset\n",
    "from transformers import AutoTokenizer, AutoModelForCausalLM, DataCollatorForSeq2Seq, TrainingArguments, Trainer"
   ]
  },
  {
   "cell_type": "code",
   "execution_count": 9,
   "id": "e098d9eb",
   "metadata": {
    "tags": []
   },
   "outputs": [],
   "source": [
    "# 读取数据\n",
    "df = pd.read_json('./data.json')\n",
    "ds = Dataset.from_pandas(df)"
   ]
  },
  {
   "cell_type": "code",
   "execution_count": 10,
   "id": "8ac92d42-efae-49b1-a00e-ccaa75b98938",
   "metadata": {
    "tags": []
   },
   "outputs": [
    {
     "data": {
      "text/plain": [
       "{'input': ['# 任务描述\\n假设你是一个AI简历助手，能从简历中识别出所有的命名实体，并以json格式返回结果。\\n\\n# 任务要求\\n实体的类别包括：姓名、国籍、种族、职位、教育背景、专业、组织名、地名。\\n返回的json格式是一个字典，其中每个键是实体的类别，值是一个列表，包含实体的文本。\\n\\n# 样例\\n输入：\\n张三，男，中国籍，工程师\\n输出：\\n{\"姓名\": [\"张三\"], \"国籍\": [\"中国\"], \"职位\": [\"工程师\"]}\\n\\n# 当前简历\\n高勇：男，中国国籍，无境外居留权，\\n\\n# 任务重述\\n请参考样例，按照任务要求，识别出当前简历中所有的命名实体，并以json格式返回结果。'],\n",
       " 'output': ['{\"姓名\": [\"高勇\"], \"国籍\": [\"中国国籍\"]}']}"
      ]
     },
     "execution_count": 10,
     "metadata": {},
     "output_type": "execute_result"
    }
   ],
   "source": [
    "# 查看数据\n",
    "len(ds)\n",
    "ds[:1]"
   ]
  },
  {
   "cell_type": "code",
   "execution_count": 11,
   "id": "74ee5a67-2e55-4974-b90e-cbf492de500a",
   "metadata": {
    "tags": []
   },
   "outputs": [],
   "source": [
    "# 加载 tokenizer\n",
    "path = './IEITYuan/Yuan2-2B-Mars-hf'\n",
    "\n",
    "# 使用默认的 legacy 行为\n",
    "tokenizer = AutoTokenizer.from_pretrained(path, add_eos_token=False, add_bos_token=False, eos_token='<eod>', legacy=True)\n",
    "\n",
    "# 添加额外的特殊标记\n",
    "tokenizer.add_tokens(['<sep>', '<pad>', '<mask>', '<predict>', '<FIM_SUFFIX>', '<FIM_PREFIX>', '<FIM_MIDDLE>', '<commit_before>', '<commit_msg>', '<commit_after>', '<jupyter_start>', '<jupyter_text>', '<jupyter_code>', '<jupyter_output>', '<empty_output>'], special_tokens=True)\n",
    "tokenizer.pad_token = tokenizer.eos_token\n",
    "\n",
    "# 如果您希望使用新行为\n",
    "tokenizer_new = AutoTokenizer.from_pretrained(path, add_eos_token=False, add_bos_token=False, eos_token='<eod>', legacy=False)\n",
    "tokenizer_new.add_tokens(['<sep>', '<pad>', '<mask>', '<predict>', '<FIM_SUFFIX>', '<FIM_PREFIX>', '<FIM_MIDDLE>', '<commit_before>', '<commit_msg>', '<commit_after>', '<jupyter_start>', '<jupyter_text>', '<jupyter_code>', '<jupyter_output>', '<empty_output>'], special_tokens=True)\n",
    "tokenizer_new.pad_token = tokenizer_new.eos_token"
   ]
  },
  {
   "cell_type": "code",
   "execution_count": 12,
   "id": "2503a5fa-9621-4495-9035-8e7ef6525691",
   "metadata": {
    "tags": []
   },
   "outputs": [],
   "source": [
    "# 定义数据处理函数\n",
    "def process_func(example):\n",
    "    MAX_LENGTH = 384    # Llama分词器会将一个中文字切分为多个token，因此需要放开一些最大长度，保证数据的完整性\n",
    "\n",
    "    instruction = tokenizer(f\"{example['input']}<sep>\")\n",
    "    response = tokenizer(f\"{example['output']}<eod>\")\n",
    "    input_ids = instruction[\"input_ids\"] + response[\"input_ids\"]\n",
    "    attention_mask = [1] * len(input_ids) \n",
    "    labels = [-100] * len(instruction[\"input_ids\"]) + response[\"input_ids\"] # instruction 不计算loss\n",
    "\n",
    "    if len(input_ids) > MAX_LENGTH:  # 做一个截断\n",
    "        input_ids = input_ids[:MAX_LENGTH]\n",
    "        attention_mask = attention_mask[:MAX_LENGTH]\n",
    "        labels = labels[:MAX_LENGTH]\n",
    "\n",
    "    return {\n",
    "        \"input_ids\": input_ids,\n",
    "        \"attention_mask\": attention_mask,\n",
    "        \"labels\": labels\n",
    "    }"
   ]
  },
  {
   "cell_type": "code",
   "execution_count": 13,
   "id": "84f870d6-73a9-4b0f-8abf-687b32224ad8",
   "metadata": {
    "tags": []
   },
   "outputs": [
    {
     "data": {
      "application/vnd.jupyter.widget-view+json": {
       "model_id": "7e1418c0d3044a288a20c791e4c33e5e",
       "version_major": 2,
       "version_minor": 0
      },
      "text/plain": [
       "Map:   0%|          | 0/200 [00:00<?, ? examples/s]"
      ]
     },
     "metadata": {},
     "output_type": "display_data"
    },
    {
     "data": {
      "text/plain": [
       "Dataset({\n",
       "    features: ['input_ids', 'attention_mask', 'labels'],\n",
       "    num_rows: 200\n",
       "})"
      ]
     },
     "execution_count": 13,
     "metadata": {},
     "output_type": "execute_result"
    }
   ],
   "source": [
    "# 处理数据集\n",
    "tokenized_id = ds.map(process_func, remove_columns=ds.column_names)\n",
    "tokenized_id"
   ]
  },
  {
   "cell_type": "code",
   "execution_count": 14,
   "id": "1f7e15a0-4d9a-4935-9861-00cc472654b1",
   "metadata": {
    "tags": []
   },
   "outputs": [
    {
     "data": {
      "text/plain": [
       "'# 任务描述\\n假设你是一个AI简历助手，能从简历中识别出所有的命名实体，并以json格式返回结果。\\n\\n# 任务要求\\n实体的类别包括：姓名、国籍、种族、职位、教育背景、专业、组织名、地名。\\n返回的json格式是一个字典，其中每个键是实体的类别，值是一个列表，包含实体的文本。\\n\\n# 样例\\n输入：\\n张三，男，中国籍，工程师\\n输出：\\n{\"姓名\": [\"张三\"], \"国籍\": [\"中国\"], \"职位\": [\"工程师\"]}\\n\\n# 当前简历\\n高勇：男，中国国籍，无境外居留权，\\n\\n# 任务重述\\n请参考样例，按照任务要求，识别出当前简历中所有的命名实体，并以json格式返回结果。<sep> {\"姓名\": [\"高勇\"], \"国籍\": [\"中国国籍\"]}<eod>'"
      ]
     },
     "execution_count": 14,
     "metadata": {},
     "output_type": "execute_result"
    }
   ],
   "source": [
    "# 数据检查\n",
    "tokenizer.decode(tokenized_id[0]['input_ids'])"
   ]
  },
  {
   "cell_type": "code",
   "execution_count": 15,
   "id": "97f16f66-324a-454f-8cc3-ef23b100ecff",
   "metadata": {
    "tags": []
   },
   "outputs": [
    {
     "data": {
      "text/plain": [
       "'{\"姓名\": [\"高勇\"], \"国籍\": [\"中国国籍\"]}<eod>'"
      ]
     },
     "execution_count": 15,
     "metadata": {},
     "output_type": "execute_result"
    }
   ],
   "source": [
    "tokenizer.decode(list(filter(lambda x: x != -100, tokenized_id[0][\"labels\"])))"
   ]
  },
  {
   "cell_type": "markdown",
   "id": "e9127a0d",
   "metadata": {},
   "source": [
    "### 2.4 模型训练"
   ]
  },
  {
   "cell_type": "markdown",
   "id": "8323f6ca-8e61-48d7-9e13-78da6addfcd6",
   "metadata": {},
   "source": [
    "移除模型加载时的device_map=\"auto\" 和 torch_dtype=torch.bfloat16 参数，因为这些设置默认会将模型加载到GPU上（如果可用）并使用bfloat16精度来节省内存。在CPU上，我们不需要指定设备映射，也不需要使用bfloat16，因为它主要用于加速GPU计算。"
   ]
  },
  {
   "cell_type": "code",
   "execution_count": 16,
   "id": "170764e5-d899-4ef4-8c53-36f6dec0d198",
   "metadata": {
    "tags": []
   },
   "outputs": [
    {
     "name": "stderr",
     "output_type": "stream",
     "text": [
      "/root/miniconda3/lib/python3.10/site-packages/torch/_utils.py:831: UserWarning: TypedStorage is deprecated. It will be removed in the future and UntypedStorage will be the only storage class. This should only matter to you if you are using storages directly.  To access UntypedStorage directly, use tensor.untyped_storage() instead of tensor.storage()\n",
      "  return self.fget.__get__(instance, owner)()\n"
     ]
    },
    {
     "data": {
      "text/plain": [
       "YuanForCausalLM(\n",
       "  (model): YuanModel(\n",
       "    (embed_tokens): Embedding(135040, 2048, padding_idx=77185)\n",
       "    (layers): ModuleList(\n",
       "      (0-23): 24 x YuanDecoderLayer(\n",
       "        (self_attn): YuanAttention(\n",
       "          (v_proj): Linear(in_features=2048, out_features=2048, bias=False)\n",
       "          (o_proj): Linear(in_features=2048, out_features=2048, bias=False)\n",
       "          (rotary_emb): YuanRotaryEmbedding()\n",
       "          (lf_gate): LocalizedFiltering(\n",
       "            (conv1): Conv2d(2048, 1024, kernel_size=(2, 1), stride=(1, 1), padding=(1, 0))\n",
       "            (conv2): Conv2d(1024, 2048, kernel_size=(2, 1), stride=(1, 1), padding=(1, 0))\n",
       "            (output_layernorm): YuanRMSNorm()\n",
       "          )\n",
       "          (q_proj): Linear(in_features=2048, out_features=2048, bias=False)\n",
       "          (k_proj): Linear(in_features=2048, out_features=2048, bias=False)\n",
       "        )\n",
       "        (mlp): YuanMLP(\n",
       "          (up_proj): Linear(in_features=2048, out_features=8192, bias=False)\n",
       "          (gate_proj): Linear(in_features=2048, out_features=8192, bias=False)\n",
       "          (down_proj): Linear(in_features=8192, out_features=2048, bias=False)\n",
       "          (act_fn): SiLU()\n",
       "        )\n",
       "        (input_layernorm): YuanRMSNorm()\n",
       "        (post_attention_layernorm): YuanRMSNorm()\n",
       "      )\n",
       "    )\n",
       "    (norm): YuanRMSNorm()\n",
       "  )\n",
       "  (lm_head): Linear(in_features=2048, out_features=135040, bias=False)\n",
       ")"
      ]
     },
     "execution_count": 16,
     "metadata": {},
     "output_type": "execute_result"
    }
   ],
   "source": [
    "# 模型加载\n",
    "#model = AutoModelForCausalLM.from_pretrained(path, device_map=\"auto\", torch_dtype=torch.bfloat16, trust_remote_code=True)\n",
    "#model\n",
    "\n",
    "device = torch.device(\"cpu\")\n",
    "model = AutoModelForCausalLM.from_pretrained(path, trust_remote_code=True)\n",
    "model.to(device)  # 显式地将模型移动到CPU上"
   ]
  },
  {
   "cell_type": "code",
   "execution_count": 17,
   "id": "2323eac7-37d5-4288-8bc5-79fac7113402",
   "metadata": {
    "tags": []
   },
   "outputs": [],
   "source": [
    "model.enable_input_require_grads() # 开启gradient_checkpointing时，要执行该方法"
   ]
  },
  {
   "cell_type": "code",
   "execution_count": 18,
   "id": "f808b05c-f2cb-48cf-a80d-0c42be6051c7",
   "metadata": {
    "tags": []
   },
   "outputs": [
    {
     "data": {
      "text/plain": [
       "torch.float32"
      ]
     },
     "execution_count": 18,
     "metadata": {},
     "output_type": "execute_result"
    }
   ],
   "source": [
    "# 查看模型数据类型\n",
    "model.dtype"
   ]
  },
  {
   "cell_type": "code",
   "execution_count": 19,
   "id": "2d304ae2-ab60-4080-a80d-19cac2e3ade3",
   "metadata": {
    "tags": []
   },
   "outputs": [
    {
     "data": {
      "text/plain": [
       "LoraConfig(peft_type=<PeftType.LORA: 'LORA'>, auto_mapping=None, base_model_name_or_path=None, revision=None, task_type=<TaskType.CAUSAL_LM: 'CAUSAL_LM'>, inference_mode=False, r=8, target_modules={'up_proj', 'down_proj', 'q_proj', 'gate_proj', 'o_proj', 'k_proj', 'v_proj'}, lora_alpha=32, lora_dropout=0.1, fan_in_fan_out=False, bias='none', use_rslora=False, modules_to_save=None, init_lora_weights=True, layers_to_transform=None, layers_pattern=None, rank_pattern={}, alpha_pattern={}, megatron_config=None, megatron_core='megatron.core', loftq_config={}, use_dora=False, layer_replication=None, runtime_config=LoraRuntimeConfig(ephemeral_gpu_offload=False))"
      ]
     },
     "execution_count": 19,
     "metadata": {},
     "output_type": "execute_result"
    }
   ],
   "source": [
    "# 配置Lora\n",
    "from peft import LoraConfig, TaskType, get_peft_model\n",
    "\n",
    "config = LoraConfig(\n",
    "    task_type=TaskType.CAUSAL_LM, \n",
    "    target_modules=[\"q_proj\", \"k_proj\", \"v_proj\", \"o_proj\", \"gate_proj\", \"up_proj\", \"down_proj\"],\n",
    "    inference_mode=False, # 训练模式\n",
    "    r=8, # Lora 秩\n",
    "    lora_alpha=32, # Lora alaph，具体作用参见 Lora 原理\n",
    "    lora_dropout=0.1# Dropout 比例\n",
    ")\n",
    "config"
   ]
  },
  {
   "cell_type": "code",
   "execution_count": 20,
   "id": "2c2489c5-eaab-4e1f-b06a-c3f914b4bf8e",
   "metadata": {
    "scrolled": true,
    "tags": []
   },
   "outputs": [
    {
     "data": {
      "text/plain": [
       "PeftModelForCausalLM(\n",
       "  (base_model): LoraModel(\n",
       "    (model): YuanForCausalLM(\n",
       "      (model): YuanModel(\n",
       "        (embed_tokens): Embedding(135040, 2048, padding_idx=77185)\n",
       "        (layers): ModuleList(\n",
       "          (0-23): 24 x YuanDecoderLayer(\n",
       "            (self_attn): YuanAttention(\n",
       "              (v_proj): lora.Linear(\n",
       "                (base_layer): Linear(in_features=2048, out_features=2048, bias=False)\n",
       "                (lora_dropout): ModuleDict(\n",
       "                  (default): Dropout(p=0.1, inplace=False)\n",
       "                )\n",
       "                (lora_A): ModuleDict(\n",
       "                  (default): Linear(in_features=2048, out_features=8, bias=False)\n",
       "                )\n",
       "                (lora_B): ModuleDict(\n",
       "                  (default): Linear(in_features=8, out_features=2048, bias=False)\n",
       "                )\n",
       "                (lora_embedding_A): ParameterDict()\n",
       "                (lora_embedding_B): ParameterDict()\n",
       "                (lora_magnitude_vector): ModuleDict()\n",
       "              )\n",
       "              (o_proj): lora.Linear(\n",
       "                (base_layer): Linear(in_features=2048, out_features=2048, bias=False)\n",
       "                (lora_dropout): ModuleDict(\n",
       "                  (default): Dropout(p=0.1, inplace=False)\n",
       "                )\n",
       "                (lora_A): ModuleDict(\n",
       "                  (default): Linear(in_features=2048, out_features=8, bias=False)\n",
       "                )\n",
       "                (lora_B): ModuleDict(\n",
       "                  (default): Linear(in_features=8, out_features=2048, bias=False)\n",
       "                )\n",
       "                (lora_embedding_A): ParameterDict()\n",
       "                (lora_embedding_B): ParameterDict()\n",
       "                (lora_magnitude_vector): ModuleDict()\n",
       "              )\n",
       "              (rotary_emb): YuanRotaryEmbedding()\n",
       "              (lf_gate): LocalizedFiltering(\n",
       "                (conv1): Conv2d(2048, 1024, kernel_size=(2, 1), stride=(1, 1), padding=(1, 0))\n",
       "                (conv2): Conv2d(1024, 2048, kernel_size=(2, 1), stride=(1, 1), padding=(1, 0))\n",
       "                (output_layernorm): YuanRMSNorm()\n",
       "              )\n",
       "              (q_proj): lora.Linear(\n",
       "                (base_layer): Linear(in_features=2048, out_features=2048, bias=False)\n",
       "                (lora_dropout): ModuleDict(\n",
       "                  (default): Dropout(p=0.1, inplace=False)\n",
       "                )\n",
       "                (lora_A): ModuleDict(\n",
       "                  (default): Linear(in_features=2048, out_features=8, bias=False)\n",
       "                )\n",
       "                (lora_B): ModuleDict(\n",
       "                  (default): Linear(in_features=8, out_features=2048, bias=False)\n",
       "                )\n",
       "                (lora_embedding_A): ParameterDict()\n",
       "                (lora_embedding_B): ParameterDict()\n",
       "                (lora_magnitude_vector): ModuleDict()\n",
       "              )\n",
       "              (k_proj): lora.Linear(\n",
       "                (base_layer): Linear(in_features=2048, out_features=2048, bias=False)\n",
       "                (lora_dropout): ModuleDict(\n",
       "                  (default): Dropout(p=0.1, inplace=False)\n",
       "                )\n",
       "                (lora_A): ModuleDict(\n",
       "                  (default): Linear(in_features=2048, out_features=8, bias=False)\n",
       "                )\n",
       "                (lora_B): ModuleDict(\n",
       "                  (default): Linear(in_features=8, out_features=2048, bias=False)\n",
       "                )\n",
       "                (lora_embedding_A): ParameterDict()\n",
       "                (lora_embedding_B): ParameterDict()\n",
       "                (lora_magnitude_vector): ModuleDict()\n",
       "              )\n",
       "            )\n",
       "            (mlp): YuanMLP(\n",
       "              (up_proj): lora.Linear(\n",
       "                (base_layer): Linear(in_features=2048, out_features=8192, bias=False)\n",
       "                (lora_dropout): ModuleDict(\n",
       "                  (default): Dropout(p=0.1, inplace=False)\n",
       "                )\n",
       "                (lora_A): ModuleDict(\n",
       "                  (default): Linear(in_features=2048, out_features=8, bias=False)\n",
       "                )\n",
       "                (lora_B): ModuleDict(\n",
       "                  (default): Linear(in_features=8, out_features=8192, bias=False)\n",
       "                )\n",
       "                (lora_embedding_A): ParameterDict()\n",
       "                (lora_embedding_B): ParameterDict()\n",
       "                (lora_magnitude_vector): ModuleDict()\n",
       "              )\n",
       "              (gate_proj): lora.Linear(\n",
       "                (base_layer): Linear(in_features=2048, out_features=8192, bias=False)\n",
       "                (lora_dropout): ModuleDict(\n",
       "                  (default): Dropout(p=0.1, inplace=False)\n",
       "                )\n",
       "                (lora_A): ModuleDict(\n",
       "                  (default): Linear(in_features=2048, out_features=8, bias=False)\n",
       "                )\n",
       "                (lora_B): ModuleDict(\n",
       "                  (default): Linear(in_features=8, out_features=8192, bias=False)\n",
       "                )\n",
       "                (lora_embedding_A): ParameterDict()\n",
       "                (lora_embedding_B): ParameterDict()\n",
       "                (lora_magnitude_vector): ModuleDict()\n",
       "              )\n",
       "              (down_proj): lora.Linear(\n",
       "                (base_layer): Linear(in_features=8192, out_features=2048, bias=False)\n",
       "                (lora_dropout): ModuleDict(\n",
       "                  (default): Dropout(p=0.1, inplace=False)\n",
       "                )\n",
       "                (lora_A): ModuleDict(\n",
       "                  (default): Linear(in_features=8192, out_features=8, bias=False)\n",
       "                )\n",
       "                (lora_B): ModuleDict(\n",
       "                  (default): Linear(in_features=8, out_features=2048, bias=False)\n",
       "                )\n",
       "                (lora_embedding_A): ParameterDict()\n",
       "                (lora_embedding_B): ParameterDict()\n",
       "                (lora_magnitude_vector): ModuleDict()\n",
       "              )\n",
       "              (act_fn): SiLU()\n",
       "            )\n",
       "            (input_layernorm): YuanRMSNorm()\n",
       "            (post_attention_layernorm): YuanRMSNorm()\n",
       "          )\n",
       "        )\n",
       "        (norm): YuanRMSNorm()\n",
       "      )\n",
       "      (lm_head): Linear(in_features=2048, out_features=135040, bias=False)\n",
       "    )\n",
       "  )\n",
       ")"
      ]
     },
     "execution_count": 20,
     "metadata": {},
     "output_type": "execute_result"
    }
   ],
   "source": [
    "# 构建PeftModel\n",
    "model = get_peft_model(model, config)\n",
    "model"
   ]
  },
  {
   "cell_type": "code",
   "execution_count": 21,
   "id": "ebf5482b-fab9-4eb3-ad88-c116def4be12",
   "metadata": {
    "tags": []
   },
   "outputs": [
    {
     "name": "stdout",
     "output_type": "stream",
     "text": [
      "trainable params: 9,043,968 || all params: 2,097,768,448 || trainable%: 0.4311\n"
     ]
    }
   ],
   "source": [
    "# 打印需要训练的参数\n",
    "model.print_trainable_parameters()"
   ]
  },
  {
   "cell_type": "markdown",
   "id": "cffa6f15-495b-4fb9-bee4-4acb4078e782",
   "metadata": {},
   "source": [
    "建议你在使用gradient_checkpointing时显式指定use_reentrant参数\n",
    "让我们先解决use_reentrant的警告。你可以在TrainingArguments中添加use_reentrant=False来解决这个问题。这是修改后的部分代码："
   ]
  },
  {
   "cell_type": "code",
   "execution_count": 22,
   "id": "7e76bbff-15fd-4995-a61d-8364dc5e9ea0",
   "metadata": {
    "ExecutionIndicator": {
     "show": true
    },
    "tags": []
   },
   "outputs": [],
   "source": [
    "# 设置训练参数\n",
    "args = TrainingArguments(\n",
    "    output_dir=\"./output/Yuan2.0-2B_lora_bf16\",\n",
    "    per_device_train_batch_size=12,\n",
    "    gradient_accumulation_steps=1,\n",
    "    logging_steps=1,\n",
    "    save_strategy=\"epoch\",\n",
    "    num_train_epochs=3,\n",
    "    learning_rate=5e-5,\n",
    "    save_on_each_node=True,\n",
    "    gradient_checkpointing=True,\n",
    "    bf16=False,  # 关闭bf16，因为我们正在使用CPU\n",
    "    fp16=False,  # 同样，关闭fp16\n",
    "    # 注意这里不再包含use_reentrant\n",
    ")"
   ]
  },
  {
   "cell_type": "code",
   "execution_count": 23,
   "id": "f142cb9c-ad99-48e6-ba86-6df198f9ed96",
   "metadata": {
    "tags": []
   },
   "outputs": [],
   "source": [
    "# 初始化Trainer\n",
    "trainer = Trainer(\n",
    "    model=model,\n",
    "    args=args,\n",
    "    train_dataset=tokenized_id,\n",
    "    data_collator=DataCollatorForSeq2Seq(tokenizer=tokenizer, padding=True),\n",
    ")"
   ]
  },
  {
   "cell_type": "code",
   "execution_count": null,
   "id": "aec9bc36-b297-45af-99e1-d4c4d82be081",
   "metadata": {
    "tags": []
   },
   "outputs": [
    {
     "name": "stderr",
     "output_type": "stream",
     "text": [
      "/root/miniconda3/lib/python3.10/site-packages/torch/utils/checkpoint.py:429: UserWarning: torch.utils.checkpoint: please pass in use_reentrant=True or use_reentrant=False explicitly. The default value of use_reentrant will be updated to be False in the future. To maintain current behavior, pass use_reentrant=True. It is recommended that you use use_reentrant=False. Refer to docs for more details on the differences between the two variants.\n",
      "  warnings.warn(\n"
     ]
    },
    {
     "data": {
      "text/html": [
       "\n",
       "    <div>\n",
       "      \n",
       "      <progress value='49' max='51' style='width:300px; height:20px; vertical-align: middle;'></progress>\n",
       "      [49/51 31:20 < 01:20, 0.02 it/s, Epoch 2.82/3]\n",
       "    </div>\n",
       "    <table border=\"1\" class=\"dataframe\">\n",
       "  <thead>\n",
       " <tr style=\"text-align: left;\">\n",
       "      <th>Step</th>\n",
       "      <th>Training Loss</th>\n",
       "    </tr>\n",
       "  </thead>\n",
       "  <tbody>\n",
       "    <tr>\n",
       "      <td>1</td>\n",
       "      <td>1.290400</td>\n",
       "    </tr>\n",
       "    <tr>\n",
       "      <td>2</td>\n",
       "      <td>1.095600</td>\n",
       "    </tr>\n",
       "    <tr>\n",
       "      <td>3</td>\n",
       "      <td>0.681400</td>\n",
       "    </tr>\n",
       "    <tr>\n",
       "      <td>4</td>\n",
       "      <td>0.575100</td>\n",
       "    </tr>\n",
       "    <tr>\n",
       "      <td>5</td>\n",
       "      <td>0.500400</td>\n",
       "    </tr>\n",
       "    <tr>\n",
       "      <td>6</td>\n",
       "      <td>0.541800</td>\n",
       "    </tr>\n",
       "    <tr>\n",
       "      <td>7</td>\n",
       "      <td>0.427000</td>\n",
       "    </tr>\n",
       "    <tr>\n",
       "      <td>8</td>\n",
       "      <td>0.627300</td>\n",
       "    </tr>\n",
       "    <tr>\n",
       "      <td>9</td>\n",
       "      <td>0.398900</td>\n",
       "    </tr>\n",
       "    <tr>\n",
       "      <td>10</td>\n",
       "      <td>0.301000</td>\n",
       "    </tr>\n",
       "    <tr>\n",
       "      <td>11</td>\n",
       "      <td>0.437800</td>\n",
       "    </tr>\n",
       "    <tr>\n",
       "      <td>12</td>\n",
       "      <td>0.411000</td>\n",
       "    </tr>\n",
       "    <tr>\n",
       "      <td>13</td>\n",
       "      <td>0.367900</td>\n",
       "    </tr>\n",
       "    <tr>\n",
       "      <td>14</td>\n",
       "      <td>0.340000</td>\n",
       "    </tr>\n",
       "    <tr>\n",
       "      <td>15</td>\n",
       "      <td>0.506100</td>\n",
       "    </tr>\n",
       "    <tr>\n",
       "      <td>16</td>\n",
       "      <td>0.469700</td>\n",
       "    </tr>\n",
       "    <tr>\n",
       "      <td>17</td>\n",
       "      <td>0.255500</td>\n",
       "    </tr>\n",
       "    <tr>\n",
       "      <td>18</td>\n",
       "      <td>0.210800</td>\n",
       "    </tr>\n",
       "    <tr>\n",
       "      <td>19</td>\n",
       "      <td>0.285000</td>\n",
       "    </tr>\n",
       "    <tr>\n",
       "      <td>20</td>\n",
       "      <td>0.236000</td>\n",
       "    </tr>\n",
       "    <tr>\n",
       "      <td>21</td>\n",
       "      <td>0.354300</td>\n",
       "    </tr>\n",
       "    <tr>\n",
       "      <td>22</td>\n",
       "      <td>0.292100</td>\n",
       "    </tr>\n",
       "    <tr>\n",
       "      <td>23</td>\n",
       "      <td>0.312100</td>\n",
       "    </tr>\n",
       "    <tr>\n",
       "      <td>24</td>\n",
       "      <td>0.183100</td>\n",
       "    </tr>\n",
       "    <tr>\n",
       "      <td>25</td>\n",
       "      <td>0.273900</td>\n",
       "    </tr>\n",
       "    <tr>\n",
       "      <td>26</td>\n",
       "      <td>0.129500</td>\n",
       "    </tr>\n",
       "    <tr>\n",
       "      <td>27</td>\n",
       "      <td>0.263000</td>\n",
       "    </tr>\n",
       "    <tr>\n",
       "      <td>28</td>\n",
       "      <td>0.250500</td>\n",
       "    </tr>\n",
       "    <tr>\n",
       "      <td>29</td>\n",
       "      <td>0.299000</td>\n",
       "    </tr>\n",
       "    <tr>\n",
       "      <td>30</td>\n",
       "      <td>0.208400</td>\n",
       "    </tr>\n",
       "    <tr>\n",
       "      <td>31</td>\n",
       "      <td>0.220600</td>\n",
       "    </tr>\n",
       "    <tr>\n",
       "      <td>32</td>\n",
       "      <td>0.234600</td>\n",
       "    </tr>\n",
       "    <tr>\n",
       "      <td>33</td>\n",
       "      <td>0.224100</td>\n",
       "    </tr>\n",
       "    <tr>\n",
       "      <td>34</td>\n",
       "      <td>0.067800</td>\n",
       "    </tr>\n",
       "    <tr>\n",
       "      <td>35</td>\n",
       "      <td>0.135700</td>\n",
       "    </tr>\n",
       "    <tr>\n",
       "      <td>36</td>\n",
       "      <td>0.233900</td>\n",
       "    </tr>\n",
       "    <tr>\n",
       "      <td>37</td>\n",
       "      <td>0.129400</td>\n",
       "    </tr>\n",
       "    <tr>\n",
       "      <td>38</td>\n",
       "      <td>0.185500</td>\n",
       "    </tr>\n",
       "    <tr>\n",
       "      <td>39</td>\n",
       "      <td>0.171100</td>\n",
       "    </tr>\n",
       "    <tr>\n",
       "      <td>40</td>\n",
       "      <td>0.094900</td>\n",
       "    </tr>\n",
       "    <tr>\n",
       "      <td>41</td>\n",
       "      <td>0.106900</td>\n",
       "    </tr>\n",
       "    <tr>\n",
       "      <td>42</td>\n",
       "      <td>0.229600</td>\n",
       "    </tr>\n",
       "    <tr>\n",
       "      <td>43</td>\n",
       "      <td>0.083000</td>\n",
       "    </tr>\n",
       "    <tr>\n",
       "      <td>44</td>\n",
       "      <td>0.265600</td>\n",
       "    </tr>\n",
       "    <tr>\n",
       "      <td>45</td>\n",
       "      <td>0.112700</td>\n",
       "    </tr>\n",
       "    <tr>\n",
       "      <td>46</td>\n",
       "      <td>0.085700</td>\n",
       "    </tr>\n",
       "    <tr>\n",
       "      <td>47</td>\n",
       "      <td>0.227600</td>\n",
       "    </tr>\n",
       "  </tbody>\n",
       "</table><p>"
      ],
      "text/plain": [
       "<IPython.core.display.HTML object>"
      ]
     },
     "metadata": {},
     "output_type": "display_data"
    },
    {
     "name": "stderr",
     "output_type": "stream",
     "text": [
      "/root/miniconda3/lib/python3.10/site-packages/torch/utils/checkpoint.py:429: UserWarning: torch.utils.checkpoint: please pass in use_reentrant=True or use_reentrant=False explicitly. The default value of use_reentrant will be updated to be False in the future. To maintain current behavior, pass use_reentrant=True. It is recommended that you use use_reentrant=False. Refer to docs for more details on the differences between the two variants.\n",
      "  warnings.warn(\n",
      "/root/miniconda3/lib/python3.10/site-packages/torch/utils/checkpoint.py:429: UserWarning: torch.utils.checkpoint: please pass in use_reentrant=True or use_reentrant=False explicitly. The default value of use_reentrant will be updated to be False in the future. To maintain current behavior, pass use_reentrant=True. It is recommended that you use use_reentrant=False. Refer to docs for more details on the differences between the two variants.\n",
      "  warnings.warn(\n"
     ]
    }
   ],
   "source": [
    "# 模型训练\n",
    "trainer.train()"
   ]
  },
  {
   "cell_type": "markdown",
   "id": "8abb2327-458e-4e96-ac98-2141b5b97c8e",
   "metadata": {},
   "source": [
    "### 2.5 效果验证"
   ]
  },
  {
   "cell_type": "markdown",
   "id": "9729c4c8-c8e0-421e-930c-88343c266917",
   "metadata": {},
   "source": [
    "调整generate函数中的.cuda()调用。.cuda()会将张量移动到GPU上。由于我们要在CPU上运行，你需要移除这个调用，或者将其替换为.to(device)，其中device被设置为torch.device(\"cpu\")。"
   ]
  },
  {
   "cell_type": "code",
   "execution_count": null,
   "id": "bd2a415a-a9ad-49ea-877f-243558a83bfc",
   "metadata": {},
   "outputs": [],
   "source": [
    "# 定义生成函数\n",
    "def generate(prompt):\n",
    "    prompt = prompt + \"<sep>\"\n",
    "    #inputs = tokenizer(prompt, return_tensors=\"pt\")[\"input_ids\"].cuda()\n",
    "    inputs = tokenizer(prompt, return_tensors=\"pt\")[\"input_ids\"].to(device)\n",
    "    outputs = model.generate(inputs, do_sample=False, max_length=256)\n",
    "    output = tokenizer.decode(outputs[0])\n",
    "    print(output.split(\"<sep>\")[-1])"
   ]
  },
  {
   "cell_type": "code",
   "execution_count": null,
   "id": "9bd3e756",
   "metadata": {},
   "outputs": [],
   "source": [
    "# 输入prompt template\n",
    "template = '''\n",
    "# 角色\n",
    "你是一个资深的 AI 翻译助理，具备卓越的语言能力，能够精准、流畅且地道地翻译英语文本。\n",
    "\n",
    "# 技能\n",
    "1. 当用户提供英语，你输出中文\n",
    "\n",
    "# 回复示例\n",
    "输入： Previously we obtained recombinant soluble human rhIFN-λ1 from Pichia pastoris.\n",
    "输出: 此前，我们已经从毕赤酵母表达获得了可溶性重组人干扰素-λ1。\n",
    "\n",
    "# 限制:\n",
    "- 仅专注于翻译相关的任务，坚决拒绝回答与翻译无关的任何问题。\n",
    "- 译文要清晰易懂、自然流畅，避免使用生僻或过于复杂的中文表述。\n",
    "\n",
    "input_str\n",
    "\n",
    "'''\n"
   ]
  },
  {
   "cell_type": "code",
   "execution_count": null,
   "id": "f88a87c6-e330-430b-bd24-69f5180034c2",
   "metadata": {
    "ExecutionIndicator": {
     "show": true
    },
    "tags": []
   },
   "outputs": [],
   "source": [
    "input_str = '\"Results: Fourteen patients, including 5 males and 9 females, were (55±8) years old, there were 9 patients with single lesion and 5 patients with multiple lesions (2-6 lesions). a total of 26 lesions were identified.\"'\n",
    "prompt = template.replace('input_str', input_str).strip()\n",
    "generate(prompt)"
   ]
  }
 ],
 "metadata": {
  "kernelspec": {
   "display_name": "Python 3 (ipykernel)",
   "language": "python",
   "name": "python3"
  },
  "language_info": {
   "codemirror_mode": {
    "name": "ipython",
    "version": 3
   },
   "file_extension": ".py",
   "mimetype": "text/x-python",
   "name": "python",
   "nbconvert_exporter": "python",
   "pygments_lexer": "ipython3",
   "version": "3.10.8"
  },
  "vscode": {
   "interpreter": {
    "hash": "c6bd51bef5b4ff0d27ffa8191406cdd00b92260c116fd6161fe29291443fd9f8"
   }
  }
 },
 "nbformat": 4,
 "nbformat_minor": 5
}
